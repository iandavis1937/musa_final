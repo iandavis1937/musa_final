{
  "cells": [
    {
      "cell_type": "markdown",
      "metadata": {},
      "source": [
        "---\n",
        "title: \"Python code blocks\"\n",
        "format:\n",
        "  html:\n",
        "    code-fold: true\n",
        "---"
      ],
      "id": "4e610669"
    },
    {
      "cell_type": "code",
      "metadata": {},
      "source": [
        "#| label: query-acled\n",
        "\n",
        "# Set query parameters.\n",
        "parameters = {\n",
        "  \"email\": \"iandavis1937@gmail.com\",\n",
        "  \"key\": \"HT98xlCQ1BGVditgq7fD\",\n",
        "  \"country\": \"Mexico\", \n",
        "  \"year\": 2023,\n",
        "  \"fields\": \"\"event_id_cnty|event_date|event_type|country\"\n",
        "}\n",
        "\n",
        "# Request the data as a JSON file and pass our paramenters as an argument (params=)\n",
        "response_params_dic = requests.get(\"https://api.acleddata.com/acled/read\", params= parameters)\n",
        "\n",
        "if response_params_dic.json()['status'] == 200:\n",
        "  print(\"Success: Take a peek to the returned JSON structure.\")\n"
      ],
      "id": "query-acled",
      "execution_count": null,
      "outputs": []
    }
  ],
  "metadata": {
    "kernelspec": {
      "name": "python3",
      "language": "python",
      "display_name": "Python 3 (ipykernel)",
      "path": "C:\\ProgramData\\miniforge3\\envs\\musa-550-fall-2023\\share\\jupyter\\kernels\\python3"
    }
  },
  "nbformat": 4,
  "nbformat_minor": 5
}